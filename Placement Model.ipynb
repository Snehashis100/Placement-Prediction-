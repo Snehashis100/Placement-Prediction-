{
 "cells": [
  {
   "cell_type": "code",
   "execution_count": 1,
   "id": "noble-covering",
   "metadata": {},
   "outputs": [],
   "source": [
    "def school_to_grade(marks):\n",
    "    if marks>=80 and marks<=100:\n",
    "        return 2\n",
    "    elif marks>=66 and marks<=79:\n",
    "        return 3\n",
    "    else:\n",
    "        return 4\n",
    "\n",
    "def etest_to_grade(marks):\n",
    "    if marks>=90 and marks<=100:\n",
    "        return 1\n",
    "    elif marks>=80 and marks<=89:\n",
    "        return 2\n",
    "    elif marks>=70 and marks<=79:\n",
    "        return 3\n",
    "    elif marks>=60 and marks<=69:\n",
    "        return 4\n",
    "    else:\n",
    "        return 5\n",
    "    \n",
    "def degree_to_grade(marks):\n",
    "    if marks>=80 and marks<=100:\n",
    "        return 2\n",
    "    elif marks>=70 and marks<=79:\n",
    "        return 3\n",
    "    elif marks>=60 and marks<=69:\n",
    "        return 4\n",
    "    else:\n",
    "        return 5\n",
    " "
   ]
  },
  {
   "cell_type": "code",
   "execution_count": 2,
   "id": "exclusive-ultimate",
   "metadata": {},
   "outputs": [],
   "source": [
    "import pickle\n",
    "with open('Placement.pkl','rb') as f:\n",
    "    model=pickle.load(f)\n",
    "def Prediction(ssc_p,hsc_p,hsc_s,degree_p,degree_t,spec_Mkt_HR,workex_Yes,etest_p):\n",
    "    ssc_grade=school_to_grade(ssc_p)\n",
    "    hsc_grade=school_to_grade(hsc_p)\n",
    "    degree_grade=degree_to_grade(degree_p)\n",
    "    etest_grade=etest_to_grade(etest_p)\n",
    "    if ('sci' in hsc_s.lower() and 'sci' in degree_t.lower())or ('com' in hsc_s.lower() and 'com' in degree_t.lower())or('arts' in hsc_s.lower() and 'others' in degree_t.lower()):\n",
    "        same_stream=1\n",
    "    else:\n",
    "        same_stream=0\n",
    "        \n",
    "    if degree_t.lower()=='others':\n",
    "        degree_s=1\n",
    "    else:\n",
    "        degree_s=0\n",
    "        \n",
    "    if workex_Yes.lower()=='yes':\n",
    "        work=1\n",
    "    else:\n",
    "        work=0\n",
    "        \n",
    "    if 'hr' in spec_Mkt_HR.lower():\n",
    "        specialization=1\n",
    "    else:\n",
    "        specialization=0\n",
    "                                                \n",
    "\n",
    "    predicted_proba = model.predict_proba([[ssc_p,hsc_p,ssc_grade,degree_grade,degree_p,same_stream,work,\n",
    "                                            hsc_grade,specialization,etest_grade,degree_s,etest_p]])\n",
    "    predicted = (predicted_proba [:,1] >= 0.65).astype('int')\n",
    "        \n",
    "    if predicted==0:\n",
    "        print(\"You have a very low chance of getting placed\")\n",
    "    else:\n",
    "        print(\"Wow!!!You have a very high chance of getting placed\")\n",
    "        \n",
    "        "
   ]
  },
  {
   "cell_type": "code",
   "execution_count": 3,
   "id": "reliable-teddy",
   "metadata": {},
   "outputs": [
    {
     "name": "stdout",
     "output_type": "stream",
     "text": [
      "You have a very low chance of getting placed\n"
     ]
    }
   ],
   "source": [
    "Prediction(60.02,73.5,\"Science\",86.7,\"Science and Technology\",\"Mkt&Hr\",\"No\",70)"
   ]
  },
  {
   "cell_type": "code",
   "execution_count": null,
   "id": "average-chamber",
   "metadata": {},
   "outputs": [],
   "source": []
  }
 ],
 "metadata": {
  "kernelspec": {
   "display_name": "Python 3",
   "language": "python",
   "name": "python3"
  },
  "language_info": {
   "codemirror_mode": {
    "name": "ipython",
    "version": 3
   },
   "file_extension": ".py",
   "mimetype": "text/x-python",
   "name": "python",
   "nbconvert_exporter": "python",
   "pygments_lexer": "ipython3",
   "version": "3.8.5"
  }
 },
 "nbformat": 4,
 "nbformat_minor": 5
}
